{
 "cells": [
  {
   "cell_type": "markdown",
   "metadata": {},
   "source": [
    "Write a Python function to check whether a number is divisible by another number. Accept two integer values from the user."
   ]
  },
  {
   "cell_type": "code",
   "execution_count": null,
   "metadata": {},
   "outputs": [],
   "source": [
    "def is_multiple (number1, number2):\n",
    "    '''\n",
    "    Checks if a number is divisible by another number\n",
    "    '''\n",
    "    if number1 % number2 == 0:\n",
    "        return True\n",
    "    elif number2 % number1 == 0:\n",
    "        return True\n",
    "    else: \n",
    "        return False"
   ]
  },
  {
   "cell_type": "markdown",
   "metadata": {},
   "source": [
    "Write a Python function to check whether a distinct pair of numbers whose product is odd is present in a sequence of integer values.\n",
    "\n",
    "*Pictorial Presentation of the sequence [2, 4, 6, 8]:*\n",
    "\n",
    "<img src=\"pictorial_presentation.png\">\n",
    "\n",
    "*Pictorial Presentation of the sequence [1, 6, 4, 7, 8]:*\n",
    "\n",
    "<img src=\"pictorial_presentation_true.png\">"
   ]
  },
  {
   "cell_type": "code",
   "execution_count": 22,
   "metadata": {},
   "outputs": [],
   "source": [
    "def odd_product(nums:list):\n",
    "    '''\n",
    "    Checks if the product of any two numbers in a list of numbers results in an odd number.\n",
    "    '''\n",
    "    odd_products = []\n",
    "    for i, num_1 in enumerate(nums):\n",
    "        for j, num_2 in enumerate(nums):\n",
    "            if i != j:\n",
    "                product = num_1 * num_2\n",
    "                if product % 2 != 0:\n",
    "                    odd_products.append(f'{num_1}*{num_2} = {product}')\n",
    "    if len(odd_products) > 0:\n",
    "        return True, odd_products\n",
    "    else:\n",
    "        return False         "
   ]
  },
  {
   "cell_type": "code",
   "execution_count": 21,
   "metadata": {},
   "outputs": [
    {
     "name": "stdout",
     "output_type": "stream",
     "text": [
      "[2, 4, 6, 8] False\n",
      "[1, 6, 4, 7, 8] (True, ['1*7 = 7', '7*1 = 7'])\n",
      "[1, 3, 5, 7, 9] (True, ['1*3 = 3', '1*5 = 5', '1*7 = 7', '1*9 = 9', '3*1 = 3', '3*5 = 15', '3*7 = 21', '3*9 = 27', '5*1 = 5', '5*3 = 15', '5*7 = 35', '5*9 = 45', '7*1 = 7', '7*3 = 21', '7*5 = 35', '7*9 = 63', '9*1 = 9', '9*3 = 27', '9*5 = 45', '9*7 = 63'])\n"
     ]
    }
   ],
   "source": [
    "# Define three lists of integers.\n",
    "dt1 = [2, 4, 6, 8]\n",
    "dt2 = [1, 6, 4, 7, 8]\n",
    "dt3 = [1, 3, 5, 7, 9]\n",
    "\n",
    "# Call the 'odd_product' function for each list and print the result.\n",
    "print(dt1, odd_product(dt1))\n",
    "print(dt2, odd_product(dt2))\n",
    "print(dt3, odd_product(dt3))"
   ]
  }
 ],
 "metadata": {
  "kernelspec": {
   "display_name": "Python 3",
   "language": "python",
   "name": "python3"
  },
  "language_info": {
   "codemirror_mode": {
    "name": "ipython",
    "version": 3
   },
   "file_extension": ".py",
   "mimetype": "text/x-python",
   "name": "python",
   "nbconvert_exporter": "python",
   "pygments_lexer": "ipython3",
   "version": "3.9.13"
  }
 },
 "nbformat": 4,
 "nbformat_minor": 2
}
