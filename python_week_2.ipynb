{
 "cells": [
  {
   "cell_type": "markdown",
   "metadata": {},
   "source": [
    "# Python Week 2 Pod Session\n",
    "\n",
    "Lets work with git and github :) \n",
    "\n",
    "As well as some understanding of loops and conditionals. \n",
    "\n",
    "Please ensure you have retrieved this notebook by forking the following repository: https://github.com/marcmarais/2401ftds_python_week_2.git"
   ]
  },
  {
   "cell_type": "markdown",
   "metadata": {},
   "source": [
    "## Fizz, Buzz and FizzBuzz\n",
    "\n",
    "Write a Python program that iterates the integers from 1 to 50. For multiples of three print \"Fizz\" instead of the number and for multiples of five print \"Buzz\". For numbers that are multiples of three and five, print \"FizzBuzz\"."
   ]
  },
  {
   "cell_type": "code",
   "execution_count": 3,
   "metadata": {},
   "outputs": [
    {
     "name": "stdout",
     "output_type": "stream",
     "text": [
      "Number: 3, Output: Fizz\n",
      "Number: 5, Output: Buzz\n",
      "Number: 6, Output: Fizz\n",
      "Number: 9, Output: Fizz\n",
      "Number: 10, Output: Buzz\n",
      "Number: 12, Output: Fizz\n",
      "Number: 15, Output: FizzBuz\n",
      "Number: 18, Output: Fizz\n",
      "Number: 20, Output: Buzz\n",
      "Number: 21, Output: Fizz\n",
      "Number: 24, Output: Fizz\n",
      "Number: 25, Output: Buzz\n",
      "Number: 27, Output: Fizz\n",
      "Number: 30, Output: FizzBuz\n",
      "Number: 33, Output: Fizz\n",
      "Number: 35, Output: Buzz\n",
      "Number: 36, Output: Fizz\n",
      "Number: 39, Output: Fizz\n",
      "Number: 40, Output: Buzz\n",
      "Number: 42, Output: Fizz\n",
      "Number: 45, Output: FizzBuz\n",
      "Number: 48, Output: Fizz\n"
     ]
    }
   ],
   "source": [
    "for i in range(1,50, 1):\n",
    "    if i % 3 == 0 and i % 5 == 0:\n",
    "        print(f'Number: {i}, Output: FizzBuz')\n",
    "    elif i % 3 == 0:\n",
    "        print(f'Number: {i}, Output: Fizz')\n",
    "    elif i % 5 == 0:\n",
    "        print(f'Number: {i}, Output: Buzz')\n",
    "    else:\n",
    "        continue"
   ]
  }
 ],
 "metadata": {
  "kernelspec": {
   "display_name": "Python 3",
   "language": "python",
   "name": "python3"
  },
  "language_info": {
   "codemirror_mode": {
    "name": "ipython",
    "version": 3
   },
   "file_extension": ".py",
   "mimetype": "text/x-python",
   "name": "python",
   "nbconvert_exporter": "python",
   "pygments_lexer": "ipython3",
   "version": "3.9.13"
  }
 },
 "nbformat": 4,
 "nbformat_minor": 2
}
